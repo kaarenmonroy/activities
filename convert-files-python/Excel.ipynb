{
 "cells": [
  {
   "cell_type": "code",
   "execution_count": null,
   "metadata": {},
   "outputs": [],
   "source": [
    "## Importing Pandas toolkit to read and import data, mainly for data analysis. \n",
    "import pandas as pd\n",
    "\n",
    "class Excel:\n",
    "    def convertToExcel(self):\n",
    "        df = pd.read_json ('Your_Path/Movies.json')\n",
    "        df.to_excel ('Your_Path/Movies.excel')\n",
    "        print('Your json file was succesfully converted to an excel file!')"
   ]
  }
 ],
 "metadata": {
  "kernelspec": {
   "display_name": "Python",
   "language": "python",
   "name": "conda-env-python-py"
  },
  "language_info": {
   "codemirror_mode": {
    "name": "ipython",
    "version": 3
   },
   "file_extension": ".py",
   "mimetype": "text/x-python",
   "name": "python",
   "nbconvert_exporter": "python",
   "pygments_lexer": "ipython3",
   "version": "3.6.11"
  }
 },
 "nbformat": 4,
 "nbformat_minor": 4
}
