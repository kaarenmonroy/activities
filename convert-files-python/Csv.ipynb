{
 "cells": [
  {
   "cell_type": "code",
   "execution_count": 1,
   "metadata": {},
   "outputs": [],
   "source": [
    "## Importing Pandas toolkit to read and import data, mainly for data analysis. \n",
    "import pandas as pd\n",
    "\n",
    "class CSV:\n",
    "    def convertToCsv(self):\n",
    "        df = pd.read_json ('Your_Path/Movies.json')\n",
    "        df.to_csv ('Your_Path/Movies.csv')\n",
    "        print('Your json file was succesfully converted to an csv file!', index = None, header=True)"
   ]
  },
  {
   "cell_type": "code",
   "execution_count": null,
   "metadata": {},
   "outputs": [],
   "source": []
  }
 ],
 "metadata": {
  "kernelspec": {
   "display_name": "Python",
   "language": "python",
   "name": "conda-env-python-py"
  },
  "language_info": {
   "codemirror_mode": {
    "name": "ipython",
    "version": 3
   },
   "file_extension": ".py",
   "mimetype": "text/x-python",
   "name": "python",
   "nbconvert_exporter": "python",
   "pygments_lexer": "ipython3",
   "version": "3.6.11"
  }
 },
 "nbformat": 4,
 "nbformat_minor": 4
}
