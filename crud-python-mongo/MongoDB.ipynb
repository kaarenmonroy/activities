{
 "cells": [
  {
   "cell_type": "code",
   "execution_count": null,
   "metadata": {},
   "outputs": [],
   "source": [
    " # Import Mongo client\n",
    "from pymongo import MongoClient\n",
    "\n",
    "class MongoDB:\n",
    "    def connectDB():\n",
    "        host = \"localhost\"\n",
    "        port = \"27017\" # The default prort from Mongo. \n",
    "        user = \"userxx\"\n",
    "        password = \"xxx\"\n",
    "        database = \"My_Users\"\n",
    "        client = MongoClient(\"mongodb://{}:{}@{}:{}\".format(user, password, host, port))\n",
    "        return client[database]"
   ]
  }
 ],
 "metadata": {
  "kernelspec": {
   "display_name": "Python",
   "language": "python",
   "name": "conda-env-python-py"
  },
  "language_info": {
   "codemirror_mode": {
    "name": "ipython",
    "version": 3
   },
   "file_extension": ".py",
   "mimetype": "text/x-python",
   "name": "python",
   "nbconvert_exporter": "python",
   "pygments_lexer": "ipython3",
   "version": "3.6.11"
  }
 },
 "nbformat": 4,
 "nbformat_minor": 4
}
