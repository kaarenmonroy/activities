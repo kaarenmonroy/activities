{
 "cells": [
  {
   "cell_type": "code",
   "execution_count": null,
   "metadata": {},
   "outputs": [],
   "source": [
    "from user import User # Import User class\n",
    "from bson.objectid import ObjectId # Impor ObjectId\n",
    "\n",
    "class MongoCreate:\n",
    "    def createUser(user):\n",
    "        database = MongoCreate()\n",
    "        database = connectDB()\n",
    "        user = database.user\n",
    "        return user.insert_one({\n",
    "            \"name\": user.name,\n",
    "            \"lastName\": user.lastName,\n",
    "            \"address\": user.addresss,\n",
    "            \"age\": user.age\n",
    "            }).inserted_id"
   ]
  }
 ],
 "metadata": {
  "kernelspec": {
   "display_name": "Python",
   "language": "python",
   "name": "conda-env-python-py"
  },
  "language_info": {
   "codemirror_mode": {
    "name": "ipython",
    "version": 3
   },
   "file_extension": ".py",
   "mimetype": "text/x-python",
   "name": "python",
   "nbconvert_exporter": "python",
   "pygments_lexer": "ipython3",
   "version": "3.6.11"
  }
 },
 "nbformat": 4,
 "nbformat_minor": 4
}
