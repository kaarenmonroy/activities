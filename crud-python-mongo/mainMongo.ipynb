{
 "cells": [
  {
   "cell_type": "code",
   "execution_count": null,
   "metadata": {},
   "outputs": [],
   "source": [
    "def main():\n",
    "    print('Choose one of the following options: C=Create, R=Read, U=Update, D=Delete ')\n",
    "    choice = input('Choose your option = ')\n",
    "\n",
    "    if choice == 'C':\n",
    "        createObj=MongoCreate()\n",
    "        createObj.createUser()\n",
    "    elif choice == 'R':\n",
    "        readObj =  MongoRead()\n",
    "        readObj.readUser()\n",
    "    elif choice == 'U':\n",
    "        updateObj = MongoUpdate()\n",
    "        updateObj.updateUser()\n",
    "    elif choice == 'D':\n",
    "        deleteObj = MongoDelete()\n",
    "        deleteObj.deleteUser()\n",
    "    else:\n",
    "        print('Sorry, try again')\n",
    "\n",
    "# Call the main function again and the process begins again\n",
    "main()"
   ]
  }
 ],
 "metadata": {
  "kernelspec": {
   "display_name": "Python",
   "language": "python",
   "name": "conda-env-python-py"
  },
  "language_info": {
   "codemirror_mode": {
    "name": "ipython",
    "version": 3
   },
   "file_extension": ".py",
   "mimetype": "text/x-python",
   "name": "python",
   "nbconvert_exporter": "python",
   "pygments_lexer": "ipython3",
   "version": "3.6.11"
  }
 },
 "nbformat": 4,
 "nbformat_minor": 4
}
