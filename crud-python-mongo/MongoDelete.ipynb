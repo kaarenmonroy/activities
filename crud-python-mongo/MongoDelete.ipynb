{
 "cells": [
  {
   "cell_type": "code",
   "execution_count": null,
   "metadata": {},
   "outputs": [],
   "source": [
    "from user import User # Import User class\n",
    "from bson.objectid import ObjectId # Impor ObjectId\n",
    "\n",
    "class MongoDelete:\n",
    "    def deleteUser(id):\n",
    "        database = MongoCreate()\n",
    "        database = connectDB()\n",
    "        query = database.user.delete_one(\n",
    "            {\n",
    "            '_id': ObjectId(id)\n",
    "            })\n",
    "        return query.deleted_count"
   ]
  }
 ],
 "metadata": {
  "kernelspec": {
   "display_name": "Python",
   "language": "python",
   "name": "conda-env-python-py"
  },
  "language_info": {
   "codemirror_mode": {
    "name": "ipython",
    "version": 3
   },
   "file_extension": ".py",
   "mimetype": "text/x-python",
   "name": "python",
   "nbconvert_exporter": "python",
   "pygments_lexer": "ipython3",
   "version": "3.6.11"
  }
 },
 "nbformat": 4,
 "nbformat_minor": 4
}
