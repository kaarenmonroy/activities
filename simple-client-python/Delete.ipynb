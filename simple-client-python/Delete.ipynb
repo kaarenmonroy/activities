{
 "cells": [
  {
   "cell_type": "code",
   "execution_count": null,
   "metadata": {},
   "outputs": [],
   "source": [
    "import db_connection as dbConnection;\n",
    "\n",
    "class Delete:\n",
    "    def deleteUser(self):\n",
    "        connection = dbConnection.getConnection()\n",
    "        id = input('Enter User Id = ')\n",
    "        sql = \"Select * From User Where Id = ?\" \n",
    "        cursor = connection.cursor()\n",
    "        cursor.execute(sql, [id])\n",
    "        deleteQuery = \"Delete From User Where Id = ?\"\n",
    "        cursor.execute(deleteQuery,[id])\n",
    "        connection.commit()\n",
    "        print('User Data deleted successfully')\n",
    "        connection.close()"
   ]
  }
 ],
 "metadata": {
  "kernelspec": {
   "display_name": "Python",
   "language": "python",
   "name": "conda-env-python-py"
  },
  "language_info": {
   "codemirror_mode": {
    "name": "ipython",
    "version": 3
   },
   "file_extension": ".py",
   "mimetype": "text/x-python",
   "name": "python",
   "nbconvert_exporter": "python",
   "pygments_lexer": "ipython3",
   "version": "3.6.11"
  }
 },
 "nbformat": 4,
 "nbformat_minor": 4
}
