{
 "cells": [
  {
   "cell_type": "code",
   "execution_count": null,
   "metadata": {},
   "outputs": [],
   "source": [
    "import db_connection as dbConnection\n",
    "\n",
    "class Read:\n",
    "    def readUser(self):  \n",
    "        connection = dbConnection.getConnection()\n",
    "        id = input('Enter User Id = ')\n",
    "        sql = \"Select * From User Where Id = ?\" \n",
    "        cursor = connection.cursor()\n",
    "        cursor.execute(sql, [id])\n",
    "        \n",
    "        for row in cursor:\n",
    "            print('row = %r' % (row,))"
   ]
  }
 ],
 "metadata": {
  "kernelspec": {
   "display_name": "Python",
   "language": "python",
   "name": "conda-env-python-py"
  },
  "language_info": {
   "codemirror_mode": {
    "name": "ipython",
    "version": 3
   },
   "file_extension": ".py",
   "mimetype": "text/x-python",
   "name": "python",
   "nbconvert_exporter": "python",
   "pygments_lexer": "ipython3",
   "version": "3.6.11"
  }
 },
 "nbformat": 4,
 "nbformat_minor": 4
}
