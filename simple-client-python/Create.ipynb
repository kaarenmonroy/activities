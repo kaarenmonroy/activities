{
 "cells": [
  {
   "cell_type": "code",
   "execution_count": null,
   "metadata": {},
   "outputs": [],
   "source": [
    "import db_connection as dbConnection\n",
    "\n",
    "class Create:\n",
    "    def createUser(self):\n",
    "        connection = dbConnection.getConnection() \n",
    "        name = input('Enter Name = ')\n",
    "        lastName = input('Enter Last Name = ')\n",
    "        address = input ('Enter Address = ')\n",
    "        age = input ('Enter Age = ')\n",
    "        query = \"Insert Into User(Name, Last Name, Address, Age) Values(?,?,?,?)\" \n",
    "        cursor = connection.cursor()\n",
    "        cursor.execute(query, [name, lastName, address, age])\n",
    "        connection.commit()\n",
    "        print('User Data Saved Successfully')\n",
    "        connection.close()"
   ]
  }
 ],
 "metadata": {
  "kernelspec": {
   "display_name": "Python",
   "language": "python",
   "name": "conda-env-python-py"
  },
  "language_info": {
   "codemirror_mode": {
    "name": "ipython",
    "version": 3
   },
   "file_extension": ".py",
   "mimetype": "text/x-python",
   "name": "python",
   "nbconvert_exporter": "python",
   "pygments_lexer": "ipython3",
   "version": "3.6.11"
  }
 },
 "nbformat": 4,
 "nbformat_minor": 4
}
