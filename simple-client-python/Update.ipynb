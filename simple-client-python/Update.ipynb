{
 "cells": [
  {
   "cell_type": "code",
   "execution_count": null,
   "metadata": {},
   "outputs": [],
   "source": [
    "import db_connection as dbConnection;\n",
    "\n",
    "class Update:\n",
    "    def updateUser(self):\n",
    "        connection = dbConnection.getConnection()\n",
    "\n",
    "        id = input('Enter User Id = ')\n",
    "        sql = \"Select * From User Where Id = ?\" \n",
    "        cursor = connection.cursor()\n",
    "        cursor.execute(sql, [id])\n",
    "        item = cursor.fetchone()\n",
    "        print('Enter New Data To Update Employee Record ')\n",
    "        name = input('Enter New Name = ')\n",
    "        lastName = input('Enter New Last Name = ')\n",
    "        address = input('Enter New Address = ')\n",
    "        age = input('Enter New Age = ')\n",
    "        query = \"Update User Set Name = ?, Last Name =?, Address =?, Age=?, Where Id =?\" \n",
    "        cursor.execute(query, [name, lastName,address, age, id])\n",
    "        connection.commit()\n",
    "        print('User data updated sccessfully')\n",
    "        connection.close()"
   ]
  }
 ],
 "metadata": {
  "kernelspec": {
   "display_name": "Python",
   "language": "python",
   "name": "conda-env-python-py"
  },
  "language_info": {
   "codemirror_mode": {
    "name": "ipython",
    "version": 3
   },
   "file_extension": ".py",
   "mimetype": "text/x-python",
   "name": "python",
   "nbconvert_exporter": "python",
   "pygments_lexer": "ipython3",
   "version": "3.6.11"
  }
 },
 "nbformat": 4,
 "nbformat_minor": 4
}
