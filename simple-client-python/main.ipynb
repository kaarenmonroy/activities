{
 "cells": [
  {
   "cell_type": "code",
   "execution_count": null,
   "metadata": {},
   "outputs": [],
   "source": [
    "import pypyodbc\n",
    "import db_connection as dbConnection\n",
    "from read import Read\n",
    "from create import Create\n",
    "from update import Update\n",
    "from delete import Delete\n",
    "\n",
    "def main():\n",
    "    print('Choose one of the following options: C=Create, R=Read, U=Update, D=Delete ')\n",
    "    choice = input('Choose your option = ')\n",
    "\n",
    "    if choice == 'C':\n",
    "        createObj=Create()\n",
    "        createObj.createUser()\n",
    "    elif choice == 'R':\n",
    "        readObj =  Read()\n",
    "        readObj.readUser()\n",
    "    elif choice == 'U':\n",
    "        updateObj = Update()\n",
    "        updateObj.updateUser()\n",
    "    elif choice == 'D':\n",
    "        deleteObj = Delete()\n",
    "        deleteObj.deleteUser()\n",
    "    else:\n",
    "        print('Sorry, try again')\n",
    "\n",
    "# Call the main function again and the process begins again\n",
    "main()"
   ]
  }
 ],
 "metadata": {
  "kernelspec": {
   "display_name": "Python",
   "language": "python",
   "name": "conda-env-python-py"
  },
  "language_info": {
   "codemirror_mode": {
    "name": "ipython",
    "version": 3
   },
   "file_extension": ".py",
   "mimetype": "text/x-python",
   "name": "python",
   "nbconvert_exporter": "python",
   "pygments_lexer": "ipython3",
   "version": "3.6.11"
  }
 },
 "nbformat": 4,
 "nbformat_minor": 4
}
